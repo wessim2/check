{
 "cells": [
  {
   "cell_type": "code",
   "execution_count": 3,
   "metadata": {},
   "outputs": [
    {
     "name": "stdout",
     "output_type": "stream",
     "text": [
      "Les nombres divisibles par 7 et ne sont pas des multiples de 5 entre 2000 et 3200 sont :\n",
      "[2002, 2009, 2016, 2023, 2037, 2044, 2051, 2058, 2072, 2079, 2086, 2093, 2107, 2114, 2121, 2128, 2142, 2149, 2156, 2163, 2177, 2184, 2191, 2198, 2212, 2219, 2226, 2233, 2247, 2254, 2261, 2268, 2282, 2289, 2296, 2303, 2317, 2324, 2331, 2338, 2352, 2359, 2366, 2373, 2387, 2394, 2401, 2408, 2422, 2429, 2436, 2443, 2457, 2464, 2471, 2478, 2492, 2499, 2506, 2513, 2527, 2534, 2541, 2548, 2562, 2569, 2576, 2583, 2597, 2604, 2611, 2618, 2632, 2639, 2646, 2653, 2667, 2674, 2681, 2688, 2702, 2709, 2716, 2723, 2737, 2744, 2751, 2758, 2772, 2779, 2786, 2793, 2807, 2814, 2821, 2828, 2842, 2849, 2856, 2863, 2877, 2884, 2891, 2898, 2912, 2919, 2926, 2933, 2947, 2954, 2961, 2968, 2982, 2989, 2996, 3003, 3017, 3024, 3031, 3038, 3052, 3059, 3066, 3073, 3087, 3094, 3101, 3108, 3122, 3129, 3136, 3143, 3157, 3164, 3171, 3178, 3192, 3199]\n"
     ]
    }
   ],
   "source": [
    "mylist = []\n",
    "for i in range(2000,3201):\n",
    "    if i%7==0 and i%5!=0:\n",
    "        mylist.append(i)\n",
    "print(\"Les nombres divisibles par 7 et ne sont pas des multiples de 5 entre 2000 et 3200 sont :\")\n",
    "print(mylist)        "
   ]
  },
  {
   "cell_type": "code",
   "execution_count": 5,
   "metadata": {},
   "outputs": [
    {
     "name": "stdout",
     "output_type": "stream",
     "text": [
      "Donner un nombre :8\n",
      "le factoriel de  8  est  40320\n"
     ]
    }
   ],
   "source": [
    "x= int(input(\"Donner un nombre :\"))\n",
    "f=1\n",
    "for i in range(1,x+1):\n",
    "    f=f*i  \n",
    "print(\"le factoriel de \",x,\" est \",f)    "
   ]
  },
  {
   "cell_type": "code",
   "execution_count": 15,
   "metadata": {},
   "outputs": [
    {
     "name": "stdout",
     "output_type": "stream",
     "text": [
      "Donner n=8\n",
      "{1: 1, 2: 4, 3: 9, 4: 16, 5: 25, 6: 36, 7: 49, 8: 64}\n"
     ]
    }
   ],
   "source": [
    "n=int(input(\"n=\"))\n",
    "Mydict=dict()\n",
    "for i in range(1,n+1):\n",
    "    Mydict[i]=i*i\n",
    "print(Mydict)"
   ]
  },
  {
   "cell_type": "code",
   "execution_count": 2,
   "metadata": {},
   "outputs": [
    {
     "name": "stdout",
     "output_type": "stream",
     "text": [
      "100,150,180\n",
      "[18, 22, 24]\n"
     ]
    }
   ],
   "source": [
    "import math\n",
    "C=50\n",
    "H=30\n",
    "Mylist=[]\n",
    "list2=[]\n",
    "for i in input().split(\",\"):\n",
    "    list2.append(i)\n",
    "for str_d in list2:\n",
    "    d=int(str_d)\n",
    "    Q=round(math.sqrt((2*C*d)/H))\n",
    "    Mylist.append(Q)\n",
    "print(Mylist)\n"
   ]
  },
  {
   "cell_type": "code",
   "execution_count": 12,
   "metadata": {},
   "outputs": [
    {
     "name": "stdout",
     "output_type": "stream",
     "text": [
      "CH=kitten\n",
      "n=1\n",
      "ktten\n"
     ]
    }
   ],
   "source": [
    "CH=input(\"CH=\")\n",
    "n=int(input(\"n=\"))\n",
    "def missing_char(CH,n):\n",
    "    return CH[0:n]+CH[n+1:]\n",
    "print(missing_char(CH,n))\n",
    "    \n"
   ]
  },
  {
   "cell_type": "code",
   "execution_count": 26,
   "metadata": {},
   "outputs": [
    {
     "name": "stdout",
     "output_type": "stream",
     "text": [
      "ch=g fmnc wms bgblr rpylqjyrc gr zw fylb. rfyrq ufyr amknsrcpq ypc dmp. bmgle gr gl zw fylb gq glcddgagclr ylb rfyr'q ufw rfgq rcvr gq qm jmle. sqgle qrpgle.kyicrpylq() gq pcamkkclbcb. lmu ynnjw ml rfc spj. \n",
      " i hope you didnt tr{nsl{te it |y h{nd0 th{ts wh{t computers {re for0 doing it in |y h{nd is inefficient {nd th{t)s why this text is so long0 using string0m{ketr{ns*+ is recommended0 now {pply on the url0 i hope you didnt translate it by hand0 thats what computers are for0 doing it in by hand is inefficient and that)s why this text is so long0 using string0maketrans*+ is recommended0 now apply on the url0 i hope you didnt translate it by hand0 thats what computers are for0 doing it in by hand is inefficient and that)s why this text is so long0 using string0maketrans*+ is recommended0 now apply on the url0 i hope you didnt translate it by hand. thats what computers are for. doing it in by hand is inefficient and that)s why this text is so long. using string.maketrans*+ is recommended. now apply on the url. i hope you didnt translate it by hand. thats what computers are for. doing it in by hand is inefficient and that)s why this text is so long. using string.maketrans*+ is recommended. now apply on the url. i hope you didnt translate it by hand. thats what computers are for. doing it in by hand is inefficient and that)s why this text is so long. using string.maketrans*+ is recommended. now apply on the url. \n"
     ]
    }
   ],
   "source": [
    "ch=input(\"ch=\")\n",
    "for i in range(0,len(ch)):\n",
    "    if ch[i] == ' ':\n",
    "        Newstr+=ch[i]\n",
    "    elif ch[i] == '.':\n",
    "        Newstr+=ch[i]\n",
    "    elif ch[i] == 'y':\n",
    "        Newstr+='a'\n",
    "    elif ch[i] == 'z':\n",
    "        Newstr+='b'\n",
    "    else:\n",
    "        Newstr+=chr(ord(ch[i])+2)\n",
    "print(Newstr)        "
   ]
  },
  {
   "cell_type": "code",
   "execution_count": null,
   "metadata": {},
   "outputs": [],
   "source": []
  }
 ],
 "metadata": {
  "kernelspec": {
   "display_name": "Python 3",
   "language": "python",
   "name": "python3"
  },
  "language_info": {
   "codemirror_mode": {
    "name": "ipython",
    "version": 3
   },
   "file_extension": ".py",
   "mimetype": "text/x-python",
   "name": "python",
   "nbconvert_exporter": "python",
   "pygments_lexer": "ipython3",
   "version": "3.7.4"
  }
 },
 "nbformat": 4,
 "nbformat_minor": 2
}
